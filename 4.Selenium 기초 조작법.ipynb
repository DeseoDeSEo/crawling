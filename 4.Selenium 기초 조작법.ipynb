{
 "cells": [
  {
   "cell_type": "markdown",
   "id": "47db92f2",
   "metadata": {},
   "source": [
    "# Selenium 라이브러리\n",
    "-  브라우저를 자동제어하여 크롤링을 자동화 시키는 라이브러리\n",
    "-  동적 크롤링을 진행 할 때 사용.\n",
    "-  반드시 한번 설치가 필요."
   ]
  },
  {
   "cell_type": "code",
   "execution_count": 1,
   "id": "9cbe03af",
   "metadata": {
    "collapsed": true
   },
   "outputs": [
    {
     "name": "stdout",
     "output_type": "stream",
     "text": [
      "Collecting selenium\n",
      "  Downloading selenium-4.11.2-py3-none-any.whl (7.2 MB)\n",
      "     ---------------------------------------- 7.2/7.2 MB 278.3 kB/s eta 0:00:00\n",
      "Collecting trio-websocket~=0.9\n",
      "  Downloading trio_websocket-0.10.3-py3-none-any.whl (17 kB)\n",
      "Collecting trio~=0.17\n",
      "  Downloading trio-0.22.2-py3-none-any.whl (400 kB)\n",
      "     ------------------------------------- 400.2/400.2 kB 26.0 MB/s eta 0:00:00\n",
      "Requirement already satisfied: certifi>=2021.10.8 in c:\\users\\gjaischool\\anaconda3\\lib\\site-packages (from selenium) (2022.12.7)\n",
      "Requirement already satisfied: urllib3[socks]<3,>=1.26 in c:\\users\\gjaischool\\anaconda3\\lib\\site-packages (from selenium) (1.26.14)\n",
      "Requirement already satisfied: attrs>=20.1.0 in c:\\users\\gjaischool\\anaconda3\\lib\\site-packages (from trio~=0.17->selenium) (22.1.0)\n",
      "Requirement already satisfied: sniffio in c:\\users\\gjaischool\\anaconda3\\lib\\site-packages (from trio~=0.17->selenium) (1.2.0)\n",
      "Collecting outcome\n",
      "  Downloading outcome-1.2.0-py2.py3-none-any.whl (9.7 kB)\n",
      "Requirement already satisfied: cffi>=1.14 in c:\\users\\gjaischool\\anaconda3\\lib\\site-packages (from trio~=0.17->selenium) (1.15.1)\n",
      "Requirement already satisfied: sortedcontainers in c:\\users\\gjaischool\\anaconda3\\lib\\site-packages (from trio~=0.17->selenium) (2.4.0)\n",
      "Collecting exceptiongroup>=1.0.0rc9\n",
      "  Downloading exceptiongroup-1.1.3-py3-none-any.whl (14 kB)\n",
      "Requirement already satisfied: idna in c:\\users\\gjaischool\\anaconda3\\lib\\site-packages (from trio~=0.17->selenium) (3.4)\n",
      "Collecting wsproto>=0.14\n",
      "  Downloading wsproto-1.2.0-py3-none-any.whl (24 kB)\n",
      "Requirement already satisfied: PySocks!=1.5.7,<2.0,>=1.5.6 in c:\\users\\gjaischool\\anaconda3\\lib\\site-packages (from urllib3[socks]<3,>=1.26->selenium) (1.7.1)\n",
      "Requirement already satisfied: pycparser in c:\\users\\gjaischool\\anaconda3\\lib\\site-packages (from cffi>=1.14->trio~=0.17->selenium) (2.21)\n",
      "Collecting h11<1,>=0.9.0\n",
      "  Downloading h11-0.14.0-py3-none-any.whl (58 kB)\n",
      "     ---------------------------------------- 58.3/58.3 kB 3.0 MB/s eta 0:00:00\n",
      "Installing collected packages: outcome, h11, exceptiongroup, wsproto, trio, trio-websocket, selenium\n",
      "Successfully installed exceptiongroup-1.1.3 h11-0.14.0 outcome-1.2.0 selenium-4.11.2 trio-0.22.2 trio-websocket-0.10.3 wsproto-1.2.0\n"
     ]
    }
   ],
   "source": [
    "# 라이브러리 설치\n",
    "# pip => 파이썬의 모든 라이브러리를 설치할 수 있는 곳.\n",
    "!pip install selenium\n"
   ]
  },
  {
   "cell_type": "code",
   "execution_count": 2,
   "id": "87b7e171",
   "metadata": {
    "collapsed": true
   },
   "outputs": [
    {
     "name": "stdout",
     "output_type": "stream",
     "text": [
      "Requirement already satisfied: selenium in c:\\users\\gjaischool\\anaconda3\\lib\\site-packages (4.11.2)\n",
      "Requirement already satisfied: trio-websocket~=0.9 in c:\\users\\gjaischool\\anaconda3\\lib\\site-packages (from selenium) (0.10.3)\n",
      "Requirement already satisfied: trio~=0.17 in c:\\users\\gjaischool\\anaconda3\\lib\\site-packages (from selenium) (0.22.2)\n",
      "Requirement already satisfied: certifi>=2021.10.8 in c:\\users\\gjaischool\\anaconda3\\lib\\site-packages (from selenium) (2022.12.7)\n",
      "Requirement already satisfied: urllib3[socks]<3,>=1.26 in c:\\users\\gjaischool\\anaconda3\\lib\\site-packages (from selenium) (1.26.14)\n",
      "Requirement already satisfied: exceptiongroup>=1.0.0rc9 in c:\\users\\gjaischool\\anaconda3\\lib\\site-packages (from trio~=0.17->selenium) (1.1.3)\n",
      "Requirement already satisfied: outcome in c:\\users\\gjaischool\\anaconda3\\lib\\site-packages (from trio~=0.17->selenium) (1.2.0)\n",
      "Requirement already satisfied: sortedcontainers in c:\\users\\gjaischool\\anaconda3\\lib\\site-packages (from trio~=0.17->selenium) (2.4.0)\n",
      "Requirement already satisfied: sniffio in c:\\users\\gjaischool\\anaconda3\\lib\\site-packages (from trio~=0.17->selenium) (1.2.0)\n",
      "Requirement already satisfied: idna in c:\\users\\gjaischool\\anaconda3\\lib\\site-packages (from trio~=0.17->selenium) (3.4)\n",
      "Requirement already satisfied: cffi>=1.14 in c:\\users\\gjaischool\\anaconda3\\lib\\site-packages (from trio~=0.17->selenium) (1.15.1)\n",
      "Requirement already satisfied: attrs>=20.1.0 in c:\\users\\gjaischool\\anaconda3\\lib\\site-packages (from trio~=0.17->selenium) (22.1.0)\n",
      "Requirement already satisfied: wsproto>=0.14 in c:\\users\\gjaischool\\anaconda3\\lib\\site-packages (from trio-websocket~=0.9->selenium) (1.2.0)\n",
      "Requirement already satisfied: PySocks!=1.5.7,<2.0,>=1.5.6 in c:\\users\\gjaischool\\anaconda3\\lib\\site-packages (from urllib3[socks]<3,>=1.26->selenium) (1.7.1)\n",
      "Requirement already satisfied: pycparser in c:\\users\\gjaischool\\anaconda3\\lib\\site-packages (from cffi>=1.14->trio~=0.17->selenium) (2.21)\n",
      "Requirement already satisfied: h11<1,>=0.9.0 in c:\\users\\gjaischool\\anaconda3\\lib\\site-packages (from wsproto>=0.14->trio-websocket~=0.9->selenium) (0.14.0)\n"
     ]
    }
   ],
   "source": [
    "# 셀레니움 최신버전 업데이트\n",
    "!pip install -U selenium"
   ]
  },
  {
   "cell_type": "code",
   "execution_count": 3,
   "id": "952b59e9",
   "metadata": {},
   "outputs": [],
   "source": [
    "# 브라우저의 역할을 해주는 라이브러리\n",
    "from selenium import webdriver as wb\n",
    "#컴퓨터용 키보드 불러오기\n",
    "from selenium.webdriver.common.keys import Keys\n",
    "# 선택자의 구분자 역할을 해주는 라이브러리\n",
    "from selenium.webdriver.common.by import By "
   ]
  },
  {
   "cell_type": "code",
   "execution_count": 12,
   "id": "7ef503b7",
   "metadata": {},
   "outputs": [],
   "source": [
    "#1.크롬창을 실행\n",
    "# web드라이버에게 크롬을 실행시켜줘 () 소괄호가 있으면 기능 실행의 의미.\n",
    "driver = wb.Chrome()"
   ]
  },
  {
   "cell_type": "code",
   "execution_count": 13,
   "id": "b2cbea50",
   "metadata": {},
   "outputs": [],
   "source": [
    "#2. 특정 페이지로 이동(요청)\n",
    "driver.get(\"http://www.naver.com\")"
   ]
  },
  {
   "cell_type": "code",
   "execution_count": 14,
   "id": "968ad532",
   "metadata": {},
   "outputs": [],
   "source": [
    "#3. 검색창에 검색어를 입력\n",
    "# 3 - 1: 검색창의 위치를 알아온다.\n",
    "# selenium에서는 검사로 한번에 위치파악 안됨. 2번 눌러줘야함.\n",
    "#soup.select(\"#query\") 이렇게 하지만 여기서는 html파일만 손대니까 아님.\n",
    "#driver.find_element(By.ID,\"query\")\n",
    "search = driver.find_element(By.ID,\"query\")\n",
    "#아래 실행하면 검색어가 입력됨.\n",
    "search.send_keys(\"스페인\")"
   ]
  },
  {
   "cell_type": "code",
   "execution_count": 15,
   "id": "7f1cae2d",
   "metadata": {},
   "outputs": [],
   "source": [
    "# 키보드의 값을 보낼때는 Keys라이브러리를 사용\n",
    "# 주의점 : 대문자로 작성해야한다.(ENTER, END ...)\n",
    "# PAGE_DOWN \n",
    "search.send_keys(Keys.ENTER)"
   ]
  },
  {
   "cell_type": "code",
   "execution_count": 16,
   "id": "0fffb215",
   "metadata": {},
   "outputs": [],
   "source": [
    "# 4.스크롤을 화면 최하단으로 이동\n",
    "# 화면 밑에 있는 데이터도 로딩 시키기 위해서.\n",
    "# 화면의 키보드에 있는 END키를 보내줄것임.\n",
    "body = driver.find_element(By.TAG_NAME,\"body\")\n",
    "body.send_keys(Keys.END)"
   ]
  },
  {
   "cell_type": "code",
   "execution_count": 18,
   "id": "a61a157e",
   "metadata": {},
   "outputs": [],
   "source": [
    "#5.  페이지 뒤로가기\n",
    "# 뒤로가기 기능은 html태그가 아니라 driver에 있음.\n",
    "driver.back()\n",
    "# 앞으로 갈때는 forward"
   ]
  },
  {
   "cell_type": "code",
   "execution_count": 19,
   "id": "c7fc10ce",
   "metadata": {},
   "outputs": [],
   "source": [
    "#6. 다시한번 검색창에 새로운 검색어를 입력함.\n",
    "# 화면이 바뀌면 : 화면이 이동했다면 \n",
    "# 컴퓨터는 과거 화면을 다 잊어버린다.\n",
    "# 반드시 요소를 새로 검색 후, 명령을 부여해야한다.\n",
    "search = driver.find_element(By.ID,\"query\")\n",
    "search.send_keys(\"스코틀랜드\")"
   ]
  },
  {
   "cell_type": "code",
   "execution_count": 20,
   "id": "5b84045f",
   "metadata": {},
   "outputs": [],
   "source": [
    "# 7. 검색 : 검색 버튼을 클릭\n",
    "# span태그: 공태그, 글씨를 넣는 태그,\n",
    "btn = driver.find_element(By.CLASS_NAME,\"btn_search\")\n",
    "btn.click( )"
   ]
  },
  {
   "cell_type": "code",
   "execution_count": 21,
   "id": "4bc4e4b9",
   "metadata": {},
   "outputs": [],
   "source": [
    "#8. 창을 종료시킴.\n",
    "driver.quit()"
   ]
  },
  {
   "cell_type": "markdown",
   "id": "0efc4b40",
   "metadata": {},
   "source": [
    "# 참고할 점 !\n",
    "- 수업때 한 방식은 최신버전의 코드임.\n",
    "- 1. 크롬드라이버 - 컴퓨터용 크롬.\n",
    "- 1.1 wb.Chrome(\"크롬 드라이버의 경로\")\n",
    "-    최신버전 :          옛날 버전?!\n",
    "- 2.find_element(By.ID)->find_element_by_id()"
   ]
  },
  {
   "cell_type": "code",
   "execution_count": null,
   "id": "7817ce4b",
   "metadata": {},
   "outputs": [],
   "source": []
  },
  {
   "cell_type": "code",
   "execution_count": null,
   "id": "11aa260a",
   "metadata": {},
   "outputs": [],
   "source": []
  },
  {
   "cell_type": "code",
   "execution_count": null,
   "id": "c5dfe628",
   "metadata": {},
   "outputs": [],
   "source": []
  },
  {
   "cell_type": "code",
   "execution_count": null,
   "id": "87d72c18",
   "metadata": {},
   "outputs": [],
   "source": []
  },
  {
   "cell_type": "code",
   "execution_count": null,
   "id": "609a5a47",
   "metadata": {},
   "outputs": [],
   "source": []
  },
  {
   "cell_type": "code",
   "execution_count": null,
   "id": "69508d66",
   "metadata": {},
   "outputs": [],
   "source": []
  },
  {
   "cell_type": "code",
   "execution_count": null,
   "id": "6d483b6f",
   "metadata": {},
   "outputs": [],
   "source": []
  },
  {
   "cell_type": "code",
   "execution_count": null,
   "id": "422502c8",
   "metadata": {},
   "outputs": [],
   "source": []
  },
  {
   "cell_type": "code",
   "execution_count": null,
   "id": "e0e22f79",
   "metadata": {},
   "outputs": [],
   "source": []
  },
  {
   "cell_type": "code",
   "execution_count": null,
   "id": "9ea37c7e",
   "metadata": {},
   "outputs": [],
   "source": []
  },
  {
   "cell_type": "code",
   "execution_count": null,
   "id": "7812dd1e",
   "metadata": {},
   "outputs": [],
   "source": []
  },
  {
   "cell_type": "code",
   "execution_count": null,
   "id": "4e7f0ac0",
   "metadata": {},
   "outputs": [],
   "source": []
  }
 ],
 "metadata": {
  "kernelspec": {
   "display_name": "Python 3 (ipykernel)",
   "language": "python",
   "name": "python3"
  },
  "language_info": {
   "codemirror_mode": {
    "name": "ipython",
    "version": 3
   },
   "file_extension": ".py",
   "mimetype": "text/x-python",
   "name": "python",
   "nbconvert_exporter": "python",
   "pygments_lexer": "ipython3",
   "version": "3.10.9"
  }
 },
 "nbformat": 4,
 "nbformat_minor": 5
}
