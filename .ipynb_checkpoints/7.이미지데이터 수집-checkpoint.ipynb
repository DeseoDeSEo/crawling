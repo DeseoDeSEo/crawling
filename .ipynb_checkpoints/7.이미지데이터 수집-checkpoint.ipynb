{
 "cells": [
  {
   "cell_type": "code",
   "execution_count": 1,
   "id": "adcba513",
   "metadata": {},
   "outputs": [],
   "source": [
    "from selenium import webdriver as wb\n",
    "from selenium.webdriver.common.by import By\n",
    "import time\n",
    "from selenium.webdriver.common.keys import Keys\n",
    "\n",
    "# 파일 시스템을 위한 라이브러리(삭제, 생성)\n",
    "import os\n",
    "# 이미지의 경로를 실제 파일로 저장\n",
    "from urllib.request import urlretrieve"
   ]
  },
  {
   "cell_type": "code",
   "execution_count": 2,
   "id": "1df9cb21",
   "metadata": {},
   "outputs": [],
   "source": [
    "# 바탕화면에 폴더를 생성\n",
    "# 바탕화면에 이미지라는 폴더가 없다면 바탕화면에 이미지라는 폴더를 만들어라.\n",
    "# 경로에 원화표시가 있다면 슬래시/로 바꿔줘야한다.\n",
    "# is dir => is directory\n",
    "# rm dir => remove directory\n",
    "if not os.path.isdir(\"C:/Users/gjaischool/Desktop/이미지\"):\n",
    "    os.mkdir(\"C:/Users/gjaischool/Desktop/이미지\")\n"
   ]
  },
  {
   "cell_type": "code",
   "execution_count": 3,
   "id": "acfaab9b",
   "metadata": {},
   "outputs": [],
   "source": [
    "driver = wb.Chrome()\n",
    "driver.get(\"https://search.naver.com/search.naver?where=image&sm=tab_jum&query=%ED%96%89%EB%B3%B5%ED%95%9C+%EC%BF%BC%EC%B9%B4\")\n",
    "# 스크롤 하는 코드\n",
    "for i in range(10):\n",
    "    body =driver.find_element(By.CSS_SELECTOR,\"body\")\n",
    "    body.send_keys(Keys.END)"
   ]
  },
  {
   "cell_type": "markdown",
   "id": "cf441621",
   "metadata": {},
   "source": [
    "## +bonus\n",
    "- br 이나 img태그는 글씨를 넣는 태그 X, 끝에 닫는 태그는 없다."
   ]
  },
  {
   "cell_type": "code",
   "execution_count": 23,
   "id": "d93eca98",
   "metadata": {},
   "outputs": [],
   "source": [
    "# 이미지 태그들을 수집\n",
    "img =driver.find_elements(By.CSS_SELECTOR,\"._image._listImage\")"
   ]
  },
  {
   "cell_type": "code",
   "execution_count": 9,
   "id": "725e6084",
   "metadata": {},
   "outputs": [
    {
     "data": {
      "text/plain": [
       "'_image _listImage'"
      ]
     },
     "execution_count": 9,
     "metadata": {},
     "output_type": "execute_result"
    }
   ],
   "source": [
    "# 공백이 있다는건 복수개라는 것.그래서 공백 대신 .넣음.\n",
    "img[0].get_attribute(\"class\")"
   ]
  },
  {
   "cell_type": "code",
   "execution_count": 8,
   "id": "faa29009",
   "metadata": {},
   "outputs": [
    {
     "data": {
      "text/plain": [
       "'https://search.pstatic.net/common/?src=http%3A%2F%2Fblogfiles.naver.net%2FMjAyMjA4MDVfMjQz%2FMDAxNjU5NjgwNzc3ODQ0.fTERWWx76epEY1olzoQBJX_U9kyJJfUdqm6WFwLTzssg.1vDGeHjeSgtUl6mLt7I9YfQ_gWia8-wvf_vmKVltbxsg.PNG.jic1230%2F%25C2%25F7%25C0%25CC%25B3%25AA%25B4%25D9%25BB%25E7%25C0%25DA_%25C4%25F5%25C4%25AB%25C0%25CE%25C7%25FC_01.PNG&type=a340'"
      ]
     },
     "execution_count": 8,
     "metadata": {},
     "output_type": "execute_result"
    }
   ],
   "source": [
    "#태그 안에 있는 속성을 가지고 올 때는 get_attribute(\"속성\")\n",
    "img[0].get_attribute(\"src\")"
   ]
  },
  {
   "cell_type": "code",
   "execution_count": 24,
   "id": "1b9a55dd",
   "metadata": {},
   "outputs": [],
   "source": [
    "# src만 담아줄 리스트를 제작\n",
    "src =[ ]\n",
    "for i in range(len(img)):\n",
    "    src.append(img[i].get_attribute(\"src\"))"
   ]
  },
  {
   "cell_type": "code",
   "execution_count": 12,
   "id": "bcb70467",
   "metadata": {
    "collapsed": true
   },
   "outputs": [
    {
     "data": {
      "text/plain": [
       "['https://search.pstatic.net/common/?src=http%3A%2F%2Fblogfiles.naver.net%2FMjAyMjA4MDVfMjQz%2FMDAxNjU5NjgwNzc3ODQ0.fTERWWx76epEY1olzoQBJX_U9kyJJfUdqm6WFwLTzssg.1vDGeHjeSgtUl6mLt7I9YfQ_gWia8-wvf_vmKVltbxsg.PNG.jic1230%2F%25C2%25F7%25C0%25CC%25B3%25AA%25B4%25D9%25BB%25E7%25C0%25DA_%25C4%25F5%25C4%25AB%25C0%25CE%25C7%25FC_01.PNG&type=a340',\n",
       " 'https://search.pstatic.net/sunny/?src=https%3A%2F%2Fimg.theqoo.net%2Fimg%2FCPXmh.jpg&type=a340',\n",
       " 'https://search.pstatic.net/common/?src=http%3A%2F%2Fblogfiles.naver.net%2FMjAyMTEwMThfMjA3%2FMDAxNjM0NTM3ODU0ODY0.2e9-Wudp6QgkBR1BHCCm-GOpUtHhQ9k32jdnEhgvErsg.7I1WyKaVgd_FuoQGO9zJbX6g79stazykfYGTc_BY54gg.PNG.reengki%2Fimage.png&type=a340',\n",
       " 'https://search.pstatic.net/common/?src=http%3A%2F%2Fblogfiles.naver.net%2FMjAyMzAyMDVfNjgg%2FMDAxNjc1NTI5MTU4ODcx.hw1YCEDzwe9z7hMv4ef1DuvuOtsbmpmjPO7CJRrw2HUg.pLsyB7j7Cjvr61aWUUptSl_CO0QaYuNnRoDt8ysZWssg.JPEG.a6969235%2F1675529159198.jpg&type=a340',\n",
       " 'https://search.pstatic.net/common/?src=http%3A%2F%2Fblogfiles.naver.net%2FMjAyMDEwMTNfOTUg%2FMDAxNjAyNTc3ODMzMTEz.zY3bs3hRA_uBGJ5xuQ9sLTxvJpwFeakENpOPJevc1Gkg.-67od9QfJmGF0Bs9BZAZugeIWbK5ceEwggbntYiXXmIg.PNG.zlozlozlo0201%2Fimage.png&type=a340',\n",
       " 'https://search.pstatic.net/common/?src=http%3A%2F%2Fblogfiles.naver.net%2FMjAyMTEwMDVfMTA1%2FMDAxNjMzMzk5MTkzNzQ1.PIvuKvmbfYwAIB-F201KMK8azmPiNXJO4DaXtMRfogog.YjWL-fZxeWhpyK11rQDLUeJ9-WEI-NcazAC1kXnX9I0g.JPEG.qhrua0516%2FIMG_7700.jpg&type=a340',\n",
       " 'https://search.pstatic.net/sunny/?src=http%3A%2F%2Fcfile22.uf.tistory.com%2Fimage%2F99F91C505B067664230764&type=a340',\n",
       " 'https://search.pstatic.net/common/?src=http%3A%2F%2Fblogfiles.naver.net%2FMjAyMTA5MDdfMTI2%2FMDAxNjMwOTk1MDY3ODE0.b3Nw3MAK5d2s_2aSQW0lgZM8oCamYSAvs1GDsS4lwJ8g.dcD-ZtJ7oR3b67a6wdA2VR1N1aVqAatGO374yyrHZ4og.JPEG.kjiin3406%2F%25C4%25F5%25C4%25AB2.jpg&type=a340',\n",
       " 'https://search.pstatic.net/common/?src=http%3A%2F%2Fblogfiles.naver.net%2FMjAyMzA1MjdfMjk5%2FMDAxNjg1MTY1MjQ3MjMx.e0Y8_pcD7AyMxjFt-DK6-cQre7YBPX5FV7-cOWVXbGQg.3QHsrJ1kCB99eHl4vUdE6KETbZtXAKHM5yft4IVg8GIg.JPEG.jeonhayeong2006%2FIMG_0651.JPG&type=a340',\n",
       " 'https://search.pstatic.net/common/?src=http%3A%2F%2Fblogfiles.naver.net%2FMjAyMTA1MjdfMTgx%2FMDAxNjIyMTIyNTEyNjcy.kmACDiC5SuBEA8ZS8sckj5l3fgWhUjjDCrefIK-HOEcg.2i5npuPEaQjA6XS8QDlOdwiDNmmjpi_QyfCO1HrKD_4g.JPEG.gruruni%2FIMG_3769.jpg&type=a340',\n",
       " 'https://search.pstatic.net/common/?src=http%3A%2F%2Fblogfiles.naver.net%2F20140328_176%2Fjungkichang3_1395982952215891Nm_PNG%2Fb38a44840defcbc0fe4e09d2dbfed636.PNG&type=a340',\n",
       " 'https://search.pstatic.net/common/?src=http%3A%2F%2Fpost.phinf.naver.net%2FMjAxOTAyMTJfMTkz%2FMDAxNTQ5OTYxNjczNjA1.Y0BcESAoIQV6jc9z8L788q66Pwlerklh07ZMsVMZy0kg.i6dc88ArAthqU3Z1veD3Z2NGR2yuMBBN5JPudTyUT0og.PNG%2FIMOyoalZaaPFNNKyiamP1XErGlGI.jpg&type=a340',\n",
       " 'https://search.pstatic.net/common/?src=http%3A%2F%2Fpost.phinf.naver.net%2FMjAyMDAzMDVfMTA4%2FMDAxNTgzNDEzNzU3MDgz.DDlDDYPiD10Wn30vZiYUPx9gPUSv1znYALg_29v10JYg.uZG0KCdLd_JwjWxI6lYvfB9GQmv3tM65Zz3tAP_Bf0Ug.JPEG%2FIiVb3iVuL4_8pC1JeExZqDSUeZUk.jpg&type=a340',\n",
       " 'https://search.pstatic.net/sunny/?src=http%3A%2F%2Ffile3.instiz.net%2Fdata%2Fcached_img%2Fupload%2F2023%2F03%2F20%2F22%2Fbf0cbee0e3a1135a0424aa671539e95d.jpg&type=a340',\n",
       " 'https://search.pstatic.net/common/?src=http%3A%2F%2Fblogfiles.naver.net%2FMjAyMTA5MTRfMTk1%2FMDAxNjMxNTk5MDEzMzYy.M_QOAhYiDevzWGIfc3Oj4NznUj2vEG921OAHFzumpzUg.THuZVcVGVQgs4Thw_ovwqDJIsmQwB0-2K_apAB5LJ48g.JPEG.kkjjmm7184%2FIMG_0929.JPG&type=a340',\n",
       " 'https://search.pstatic.net/sunny/?src=https%3A%2F%2Fimage.ohou.se%2Fi%2Fbucketplace-v2-development%2Fuploads%2Fproductions%2F164499786290532120.jpg%3Fgif%3D1%26w%3D720%26h%3D480%26c%3Dc&type=a340',\n",
       " 'https://search.pstatic.net/sunny/?src=https%3A%2F%2Ft1.daumcdn.net%2Fcafeattach%2F1WNmU%2Fefbaa79dc72afc5f702bb45756504d2fa97ec4f4_re_1671744258523&type=a340',\n",
       " 'https://search.pstatic.net/common/?src=http%3A%2F%2Fblogfiles.naver.net%2FMjAyMjA2MTFfMjkx%2FMDAxNjU0OTM0ODYzODI0.QjSPK7tV_8_De8-THxp2JQq_4irkX1cDkXvocfFpBS8g.UW20IwhYZ0dar6SC_ufJmqdMQnpt8WwGfWbg7a8Gt0Mg.JPEG.sssong1007%2F20220510_150643.jpg&type=ofullfill340_600_png',\n",
       " 'https://search.pstatic.net/common/?src=http%3A%2F%2Fblogfiles.naver.net%2FMjAyMTA0MDdfMjcz%2FMDAxNjE3ODA2MzQyODg2.DzdWCOsl8GhtcAbQTvV798HOKpwTewlyBwVnHBuzbhEg.iszpTM0vsQ4kk0tZb3FGS4S2s0IBeoqg0YzLYDzM9sUg.JPEG.ml0806%2FIMG_5877.jpg&type=a340',\n",
       " 'https://search.pstatic.net/common/?src=http%3A%2F%2Fblogfiles.naver.net%2F20150627_271%2Fcbyyfu38x3_1435368533347Jd87G_JPEG%2F2015-06-27_10%253B27%253B58.jpg&type=a340',\n",
       " 'https://search.pstatic.net/common/?src=http%3A%2F%2Fblogfiles.naver.net%2F20140827_25%2Fkumzzi_1409144635507W9A1k_JPEG%2F%25C4%25F5%25C4%25AB1.jpg&type=a340',\n",
       " 'https://search.pstatic.net/common/?src=http%3A%2F%2Fshop1.phinf.naver.net%2F20211026_249%2F1635243413217orQDt_PNG%2F36379196850123978_406187371.png&type=a340',\n",
       " 'https://search.pstatic.net/common/?src=http%3A%2F%2Fblogfiles.naver.net%2FMjAyMzA3MTRfMjkw%2FMDAxNjg5Mjg2MzI4OTQ0.GHt2mdFwSoJL7_AKDJnkA2j1HoVUH5CRFFrv8Jq1cFEg.edKVKHIZ6tXYWf5HaWby1ucuRH0w7nZ-N0FpoxptNkYg.JPEG.mugodreamer%2FIMG_6952.jpg&type=a340',\n",
       " 'https://search.pstatic.net/common/?src=http%3A%2F%2Fblogfiles.naver.net%2FMjAyMTEyMDdfNDcg%2FMDAxNjM4ODYwMTAxNTE5.5Sh9orSJhh74ysF9KoF79aUXI9d-jGfoRDdWXrgHQREg.5kHVoeUQMC1g4f3jlU95uHk-Snpuk70C984whIwHXMQg.JPEG.comaism%2F20181229_134852.jpg&type=a340',\n",
       " 'https://search.pstatic.net/common/?src=http%3A%2F%2Fblogfiles.naver.net%2FMjAyMTA4MDdfMTM4%2FMDAxNjI4MzAyMDQ3NDM3.QmMaQcuao3V3PaHcYbhJ5jAHXLNrZzFFvZyPh8u-ZHwg.dra28s_rmhwZi3kGfVrWSW0Fx09LckwsupOw_-se5AYg.JPEG.kiki4uu%2FIMG_5555.jpg&type=a340',\n",
       " 'https://search.pstatic.net/common/?src=http%3A%2F%2Fblogfiles.naver.net%2FMjAyMTA4MTNfNzUg%2FMDAxNjI4Nzg3NDk4NDcw.98Djo7N3DP3LyYSqGTs_V9E5pqJpfNeiSOezC1Z7nrAg.qqGXJnWjOxZEQM-JkTf7wwFrZMjtNM8z1xP-uFg5DyIg.PNG.kjky021%2F%25C4%25F5%25C4%25AB12.PNG&type=a340',\n",
       " 'https://search.pstatic.net/common/?src=http%3A%2F%2Fblogfiles.naver.net%2FMjAxOTA1MjdfMjk0%2FMDAxNTU4OTU1MzM3Nzg2.bcygxRyIYc8wVwo_HI7AHDa7iggnUR0_ZNBK2bhtgE4g.x88CH4Qd0sPWhECiMfYS7kAxALW38G6Wz14HdczIraYg.JPEG.thnh%2FIMG_2265.jpg&type=a340',\n",
       " 'https://search.pstatic.net/common/?src=http%3A%2F%2Fblogfiles.naver.net%2FMjAyMDA0MTJfMjg3%2FMDAxNTg2Njg2NzU3OTUw.-sfzkdyfwA8OFX_MNGCq3k4vVYLhzB8VqjCQ9C6apRQg.47i2Fkn7B3Jj-n4CEbIN3J2jNIvx3zJRRSxXTwTW5P4g.JPEG.ace1217%2F1586686758551.jpg&type=ofullfill340_600_png',\n",
       " 'https://search.pstatic.net/common/?src=http%3A%2F%2Fblogfiles.naver.net%2FMjAyMjA1MjdfMTgx%2FMDAxNjUzNjMwNzA2Njgw.5eYtiZlXQd8H7_IrBRnoEhA8gO3-KVdpzHoYwR4tGrMg.msPuh1ooClU2a8ucfZIdQb_cfOVaQfNqG2nyjScn79Mg.JPEG.sunmoolmaru%2Fac3b59b1549c52aa06c1c252480fe366.jpg&type=a340',\n",
       " 'https://search.pstatic.net/common/?src=http%3A%2F%2Fblogfiles.naver.net%2FMjAyMjA1MTRfMjQg%2FMDAxNjUyNTM3ODYzNDQw.iWfIb3qenQKFaNCSjxD3k0hr-7z98ZsE-cuuDRjyOBwg.7wR3iK6K5i9P5hNrC7pxBmQtxtGHu8IJZ5W6gDDdygwg.PNG.wldud0840%2F002.png&type=a340',\n",
       " 'https://search.pstatic.net/common/?src=http%3A%2F%2Fblogfiles.naver.net%2F20150310_284%2Fwithusvac520_1425965551979zDfmp_JPEG%2F0001a7c3.jpeg&type=l340_165',\n",
       " 'https://search.pstatic.net/common/?src=http%3A%2F%2Fblogfiles.naver.net%2FMjAyMjA1MjFfMjg4%2FMDAxNjUzMTEyNjcxNDYx.vSup7wM1rELWtKzFkM5BWd3Xxvk0bVPHrytVzbWCnr0g.yYhdcDgrq7VzLADP7Y7V3kwya61qTiUjDoVIE3yl-TUg.JPEG.dlwnrud99%2Foutput_2479367546.jpg&type=a340',\n",
       " 'https://search.pstatic.net/common/?src=http%3A%2F%2Fshop1.phinf.naver.net%2F20220304_296%2F1646378064337BI0OO_PNG%2F47513848035581699_1027118155.png&type=a340',\n",
       " 'https://search.pstatic.net/common/?src=http%3A%2F%2Fpost.phinf.naver.net%2FMjAyMjEwMTNfMjQ3%2FMDAxNjY1NjY2MjczODk4.54Ie4OlW3YmoGoX4OQUNJUFmPM8Dr_H20niUolowebgg.q-LyiL1BG-b_3AfToJjX2G3XAAiH8BCfZVs1Fe2voNQg.JPEG%2FI1mdkfzi-HAijkyn1ShEQ4qS0UE0.jpg&type=a340',\n",
       " 'https://search.pstatic.net/common/?src=http%3A%2F%2Fblogfiles.naver.net%2FMjAxODEyMTNfMTY1%2FMDAxNTQ0NjgxNTYyOTE2.M4vTtFwrq_RaE6Eks9A6JPCTMopV2_JnbnHt3lJYc5Eg.SZScj78J5apDOXF1xOX6LOyv46AEGGBldlAlazAdfi8g.PNG.mandra6%2F48155221_1073580172821395_3750216377437257728_n.png&type=a340',\n",
       " 'https://search.pstatic.net/common/?src=http%3A%2F%2Fblogfiles.naver.net%2FMjAyMDAzMTBfMjU1%2FMDAxNTgzODQ2MTk5NzI3.pL_NcwIWJ6z8rrLXeyWFp8NmmMq32hpQoBtEMOavdz4g.IY9mXyEvOh3lFndF6WCDp3WGJ5krN8CSqsZYOzFPVBwg.JPEG.zoopzoop2%2Foh_my_cute.jpg&type=a340',\n",
       " 'https://search.pstatic.net/common/?src=http%3A%2F%2Fimgnews.naver.net%2Fimage%2F5353%2F2020%2F10%2F23%2F0000721543_002_20201023111817307.jpg&type=a340',\n",
       " 'https://search.pstatic.net/sunny/?src=http%3A%2F%2Ffile3.instiz.net%2Fdata%2Ffile3%2F2021%2F06%2F21%2Fb%2F4%2F0%2Fb40d9087bd3f191941319d352295937d.jpg&type=a340',\n",
       " 'https://search.pstatic.net/common/?src=http%3A%2F%2Fblogfiles.naver.net%2FMjAyMjExMDhfMjEz%2FMDAxNjY3ODgyNTI3Mzk0.Hhp8x8qtPOpgnuLmW8DJvqRjjW8cTDvyEw-Xfe7SB0sg.Ix4TWhPS2GJdIC5jtCzGpYHaxAt1JP39H1NXDbhvzg0g.PNG.ignomin7054%2F20221108_133354.png&type=a340',\n",
       " 'https://search.pstatic.net/common/?src=http%3A%2F%2Fblogfiles.naver.net%2F20140425_68%2Fbelle243_1398419174538UpzkM_JPEG%2FNaverBlog_20140425_184615_08.jpg&type=a340',\n",
       " 'https://search.pstatic.net/common/?src=http%3A%2F%2Fblogfiles.naver.net%2FMjAyMTAzMjhfMTEx%2FMDAxNjE2ODYxODM0NjQ4.PdGJINul3ikI-6tm4JrGWcqyPbcllRTX_2uu_YoPGlEg.gQmZpSDQsGV6HVWcH3mjpg72HxHOGjE8yUnxPDQRtmIg.JPEG.dpfdkdlqmdl%2FIMG_3751.JPG&type=a340',\n",
       " 'https://search.pstatic.net/common/?src=http%3A%2F%2Fblogfiles.naver.net%2FMjAyMjEwMjlfNDgg%2FMDAxNjY3MDE1NDg3MDA5.l9gekA4v50fYpuUn7PsQhvHvVgaoPz3jNn_O52oxKCIg.dPv2xzSh-AA53CFkYPsvJrinp9rIWLHbRaKNkqjxySQg.JPEG.spdlqjdkel18%2FIMG_8813.JPG&type=a340',\n",
       " 'https://search.pstatic.net/common/?src=http%3A%2F%2Fblogfiles.naver.net%2FMjAyMTA1MDFfMTMz%2FMDAxNjE5ODYzMDUwMzQy.ITNplR8_S8T-eAzGtpcyvnest2ZEenwb_AzwharUP-Ig._mutVMb_grKzGS1tqgmypc7cB-7zyccTyzGny1WzdNMg.PNG.ladycalla%2F%25B4%25D9%25BF%25EE%25B7%25CE%25B5%25E5.png&type=a340',\n",
       " 'https://search.pstatic.net/common/?src=http%3A%2F%2Fblogfiles.naver.net%2FMjAyMzAxMjdfMjMz%2FMDAxNjc0NzgxMDQ0Mjky.0lCPe4MSIDHJ8ExKcmZDV5v6xZR0To1co3o89l199Awg.VH7-GdvZovmmveDz6ovU87SQIzqvDKJU4W6aaN1Oj-Yg.JPEG.teddy_86%2F4d3810c01cd194280c35961ec915613c.jpg&type=a340',\n",
       " 'https://search.pstatic.net/common/?src=http%3A%2F%2Fblogfiles.naver.net%2F20150313_99%2Fdndisok82_1426207735515Hmdjz_JPEG%2FZKZK_%25283%2529.jpg&type=a340',\n",
       " 'https://search.pstatic.net/common/?src=http%3A%2F%2Fblogfiles.naver.net%2FMjAyMjA1MTRfMTA1%2FMDAxNjUyNDg0OTQzNzIy.ODxF43uxrTIsq2nvAlVF-kzVfgMwvCZkKZxmpQ0E30kg.J4moBLou3U2LP268_y3WBRsad4kKq2_AtZRZlzSuxx8g.JPEG.moonz%2F%25B4%25D9%25BF%25EE%25B7%25CE%25B5%25E5_%25A3%25A87%25A3%25A9.jpeg&type=a340',\n",
       " 'https://search.pstatic.net/common/?src=http%3A%2F%2Fblogfiles.naver.net%2F20131224_281%2Fborayitto_1387825238027QK3wL_PNG%2FScreenshot_2013-12-24-03-40-23_edit.png&type=a340',\n",
       " 'https://search.pstatic.net/common/?src=http%3A%2F%2Fblogfiles.naver.net%2FMjAyMTA1MTVfMjM3%2FMDAxNjIxMDY5NjkzMTU3.h4H-XroA8Hh524cZCApdtOSuiuV3L-9XDJCqYfi4hZYg.7GPi4eo59bQyVSVlGO36GnJ0ApZyOappRDRIghSNYcwg.JPEG.choconemo%2F%25C7%25E0%25BA%25B9%25C7%25D1%25C4%25F5%25C4%25AB_2.jpg&type=a340',\n",
       " 'https://search.pstatic.net/common/?src=http%3A%2F%2Fblogfiles.naver.net%2F20131127_81%2Fmusai_j_1385541065510NJMs3_PNG%2F2013-11-27_17%253B15%253B29.PNG&type=a340',\n",
       " 'https://search.pstatic.net/common/?src=http%3A%2F%2Fcafefiles.naver.net%2FMjAxNzExMjVfMjQy%2FMDAxNTExNTY2ODcxODQ0.8hocf7yQ9HRlbbGZNe8Z-zKCCqt1JY5u4OVOZtArxpUg.oH4SMAxiMp5w0Yb49RNIFzSL6d4e8bOiAW3XNMgSZOEg.PNG.qwetmdgus%2FexternalFile.png&type=a340',\n",
       " 'https://search.pstatic.net/common/?src=http%3A%2F%2Fblogfiles.naver.net%2FMjAyMjA2MjBfOTIg%2FMDAxNjU1NjUxOTM1MjIz.yzx6BylKcDKGm_tgJn5XjFYPgk5OItFgxAFK4_8WJ-Mg.ThspIfagLfnbTf5FUTJ41Cj_p6aSp9c6U2JudaganS4g.JPEG.haehaeyaaa%2FIMG_7167.JPG&type=a340',\n",
       " 'https://search.pstatic.net/common/?src=http%3A%2F%2Fblogfiles.naver.net%2FMjAyMTAyMDNfMjIz%2FMDAxNjEyMzYzMDc4Mjcz.N0ZrDevulYodeVVVOXcTJPdaFBUnY1Xk4meyL1Y1za4g.kR3t5hI5W3drZdv01NjTp1xL5lNMOrnqwub5Bit9hcog.PNG.reengki%2Fimage.png&type=a340',\n",
       " 'https://search.pstatic.net/common/?src=http%3A%2F%2Fpost.phinf.naver.net%2FMjAxNzAyMDhfMTg4%2FMDAxNDg2NTQyODk3Mjg0.z-xfYEGMNz9ID00dtKx15FQi9Mz1OWWM4hrSZblWEQwg.GSfVT-hsYeju6RYYiTaCAPAjk_RBSosmtNITVd6HyvMg.PNG%2FIskplgNtjW_t4fK_5Pq_8EBN9gCA.jpg&type=a340',\n",
       " 'https://search.pstatic.net/common/?src=http%3A%2F%2Fimgnews.naver.net%2Fimage%2F5090%2F2015%2F03%2F12%2F20150312101100914123_99_20150312101212.jpg&type=a340',\n",
       " 'data:image/gif;base64,R0lGODlhAQABAIAAAAAAAP///yH5BAEAAAAALAAAAAABAAEAAAIBRAA7',\n",
       " 'data:image/gif;base64,R0lGODlhAQABAIAAAAAAAP///yH5BAEAAAAALAAAAAABAAEAAAIBRAA7',\n",
       " 'data:image/gif;base64,R0lGODlhAQABAIAAAAAAAP///yH5BAEAAAAALAAAAAABAAEAAAIBRAA7',\n",
       " 'data:image/gif;base64,R0lGODlhAQABAIAAAAAAAP///yH5BAEAAAAALAAAAAABAAEAAAIBRAA7',\n",
       " 'data:image/gif;base64,R0lGODlhAQABAIAAAAAAAP///yH5BAEAAAAALAAAAAABAAEAAAIBRAA7',\n",
       " 'data:image/gif;base64,R0lGODlhAQABAIAAAAAAAP///yH5BAEAAAAALAAAAAABAAEAAAIBRAA7',\n",
       " 'data:image/gif;base64,R0lGODlhAQABAIAAAAAAAP///yH5BAEAAAAALAAAAAABAAEAAAIBRAA7',\n",
       " 'data:image/gif;base64,R0lGODlhAQABAIAAAAAAAP///yH5BAEAAAAALAAAAAABAAEAAAIBRAA7',\n",
       " 'data:image/gif;base64,R0lGODlhAQABAIAAAAAAAP///yH5BAEAAAAALAAAAAABAAEAAAIBRAA7',\n",
       " 'data:image/gif;base64,R0lGODlhAQABAIAAAAAAAP///yH5BAEAAAAALAAAAAABAAEAAAIBRAA7',\n",
       " 'data:image/gif;base64,R0lGODlhAQABAIAAAAAAAP///yH5BAEAAAAALAAAAAABAAEAAAIBRAA7',\n",
       " 'data:image/gif;base64,R0lGODlhAQABAIAAAAAAAP///yH5BAEAAAAALAAAAAABAAEAAAIBRAA7',\n",
       " 'data:image/gif;base64,R0lGODlhAQABAIAAAAAAAP///yH5BAEAAAAALAAAAAABAAEAAAIBRAA7',\n",
       " 'data:image/gif;base64,R0lGODlhAQABAIAAAAAAAP///yH5BAEAAAAALAAAAAABAAEAAAIBRAA7',\n",
       " 'data:image/gif;base64,R0lGODlhAQABAIAAAAAAAP///yH5BAEAAAAALAAAAAABAAEAAAIBRAA7',\n",
       " 'data:image/gif;base64,R0lGODlhAQABAIAAAAAAAP///yH5BAEAAAAALAAAAAABAAEAAAIBRAA7',\n",
       " 'data:image/gif;base64,R0lGODlhAQABAIAAAAAAAP///yH5BAEAAAAALAAAAAABAAEAAAIBRAA7',\n",
       " 'data:image/gif;base64,R0lGODlhAQABAIAAAAAAAP///yH5BAEAAAAALAAAAAABAAEAAAIBRAA7',\n",
       " 'data:image/gif;base64,R0lGODlhAQABAIAAAAAAAP///yH5BAEAAAAALAAAAAABAAEAAAIBRAA7',\n",
       " 'data:image/gif;base64,R0lGODlhAQABAIAAAAAAAP///yH5BAEAAAAALAAAAAABAAEAAAIBRAA7',\n",
       " 'data:image/gif;base64,R0lGODlhAQABAIAAAAAAAP///yH5BAEAAAAALAAAAAABAAEAAAIBRAA7',\n",
       " 'data:image/gif;base64,R0lGODlhAQABAIAAAAAAAP///yH5BAEAAAAALAAAAAABAAEAAAIBRAA7',\n",
       " 'data:image/gif;base64,R0lGODlhAQABAIAAAAAAAP///yH5BAEAAAAALAAAAAABAAEAAAIBRAA7',\n",
       " 'data:image/gif;base64,R0lGODlhAQABAIAAAAAAAP///yH5BAEAAAAALAAAAAABAAEAAAIBRAA7',\n",
       " 'data:image/gif;base64,R0lGODlhAQABAIAAAAAAAP///yH5BAEAAAAALAAAAAABAAEAAAIBRAA7',\n",
       " 'data:image/gif;base64,R0lGODlhAQABAIAAAAAAAP///yH5BAEAAAAALAAAAAABAAEAAAIBRAA7',\n",
       " 'data:image/gif;base64,R0lGODlhAQABAIAAAAAAAP///yH5BAEAAAAALAAAAAABAAEAAAIBRAA7',\n",
       " 'data:image/gif;base64,R0lGODlhAQABAIAAAAAAAP///yH5BAEAAAAALAAAAAABAAEAAAIBRAA7',\n",
       " 'data:image/gif;base64,R0lGODlhAQABAIAAAAAAAP///yH5BAEAAAAALAAAAAABAAEAAAIBRAA7',\n",
       " 'data:image/gif;base64,R0lGODlhAQABAIAAAAAAAP///yH5BAEAAAAALAAAAAABAAEAAAIBRAA7',\n",
       " 'data:image/gif;base64,R0lGODlhAQABAIAAAAAAAP///yH5BAEAAAAALAAAAAABAAEAAAIBRAA7',\n",
       " 'data:image/gif;base64,R0lGODlhAQABAIAAAAAAAP///yH5BAEAAAAALAAAAAABAAEAAAIBRAA7',\n",
       " 'data:image/gif;base64,R0lGODlhAQABAIAAAAAAAP///yH5BAEAAAAALAAAAAABAAEAAAIBRAA7',\n",
       " 'data:image/gif;base64,R0lGODlhAQABAIAAAAAAAP///yH5BAEAAAAALAAAAAABAAEAAAIBRAA7',\n",
       " 'data:image/gif;base64,R0lGODlhAQABAIAAAAAAAP///yH5BAEAAAAALAAAAAABAAEAAAIBRAA7',\n",
       " 'data:image/gif;base64,R0lGODlhAQABAIAAAAAAAP///yH5BAEAAAAALAAAAAABAAEAAAIBRAA7',\n",
       " 'data:image/gif;base64,R0lGODlhAQABAIAAAAAAAP///yH5BAEAAAAALAAAAAABAAEAAAIBRAA7',\n",
       " 'data:image/gif;base64,R0lGODlhAQABAIAAAAAAAP///yH5BAEAAAAALAAAAAABAAEAAAIBRAA7',\n",
       " 'data:image/gif;base64,R0lGODlhAQABAIAAAAAAAP///yH5BAEAAAAALAAAAAABAAEAAAIBRAA7',\n",
       " 'data:image/gif;base64,R0lGODlhAQABAIAAAAAAAP///yH5BAEAAAAALAAAAAABAAEAAAIBRAA7',\n",
       " 'data:image/gif;base64,R0lGODlhAQABAIAAAAAAAP///yH5BAEAAAAALAAAAAABAAEAAAIBRAA7',\n",
       " 'data:image/gif;base64,R0lGODlhAQABAIAAAAAAAP///yH5BAEAAAAALAAAAAABAAEAAAIBRAA7',\n",
       " 'data:image/gif;base64,R0lGODlhAQABAIAAAAAAAP///yH5BAEAAAAALAAAAAABAAEAAAIBRAA7',\n",
       " 'data:image/gif;base64,R0lGODlhAQABAIAAAAAAAP///yH5BAEAAAAALAAAAAABAAEAAAIBRAA7',\n",
       " 'data:image/gif;base64,R0lGODlhAQABAIAAAAAAAP///yH5BAEAAAAALAAAAAABAAEAAAIBRAA7',\n",
       " 'data:image/gif;base64,R0lGODlhAQABAIAAAAAAAP///yH5BAEAAAAALAAAAAABAAEAAAIBRAA7',\n",
       " 'data:image/gif;base64,R0lGODlhAQABAIAAAAAAAP///yH5BAEAAAAALAAAAAABAAEAAAIBRAA7',\n",
       " 'data:image/gif;base64,R0lGODlhAQABAIAAAAAAAP///yH5BAEAAAAALAAAAAABAAEAAAIBRAA7',\n",
       " 'data:image/gif;base64,R0lGODlhAQABAIAAAAAAAP///yH5BAEAAAAALAAAAAABAAEAAAIBRAA7',\n",
       " 'data:image/gif;base64,R0lGODlhAQABAIAAAAAAAP///yH5BAEAAAAALAAAAAABAAEAAAIBRAA7',\n",
       " 'data:image/gif;base64,R0lGODlhAQABAIAAAAAAAP///yH5BAEAAAAALAAAAAABAAEAAAIBRAA7',\n",
       " 'data:image/gif;base64,R0lGODlhAQABAIAAAAAAAP///yH5BAEAAAAALAAAAAABAAEAAAIBRAA7',\n",
       " 'data:image/gif;base64,R0lGODlhAQABAIAAAAAAAP///yH5BAEAAAAALAAAAAABAAEAAAIBRAA7',\n",
       " 'data:image/gif;base64,R0lGODlhAQABAIAAAAAAAP///yH5BAEAAAAALAAAAAABAAEAAAIBRAA7',\n",
       " 'data:image/gif;base64,R0lGODlhAQABAIAAAAAAAP///yH5BAEAAAAALAAAAAABAAEAAAIBRAA7',\n",
       " 'data:image/gif;base64,R0lGODlhAQABAIAAAAAAAP///yH5BAEAAAAALAAAAAABAAEAAAIBRAA7',\n",
       " 'data:image/gif;base64,R0lGODlhAQABAIAAAAAAAP///yH5BAEAAAAALAAAAAABAAEAAAIBRAA7',\n",
       " 'data:image/gif;base64,R0lGODlhAQABAIAAAAAAAP///yH5BAEAAAAALAAAAAABAAEAAAIBRAA7',\n",
       " 'data:image/gif;base64,R0lGODlhAQABAIAAAAAAAP///yH5BAEAAAAALAAAAAABAAEAAAIBRAA7',\n",
       " 'data:image/gif;base64,R0lGODlhAQABAIAAAAAAAP///yH5BAEAAAAALAAAAAABAAEAAAIBRAA7',\n",
       " 'data:image/gif;base64,R0lGODlhAQABAIAAAAAAAP///yH5BAEAAAAALAAAAAABAAEAAAIBRAA7',\n",
       " 'data:image/gif;base64,R0lGODlhAQABAIAAAAAAAP///yH5BAEAAAAALAAAAAABAAEAAAIBRAA7',\n",
       " 'data:image/gif;base64,R0lGODlhAQABAIAAAAAAAP///yH5BAEAAAAALAAAAAABAAEAAAIBRAA7',\n",
       " 'data:image/gif;base64,R0lGODlhAQABAIAAAAAAAP///yH5BAEAAAAALAAAAAABAAEAAAIBRAA7',\n",
       " 'data:image/gif;base64,R0lGODlhAQABAIAAAAAAAP///yH5BAEAAAAALAAAAAABAAEAAAIBRAA7',\n",
       " 'data:image/gif;base64,R0lGODlhAQABAIAAAAAAAP///yH5BAEAAAAALAAAAAABAAEAAAIBRAA7',\n",
       " 'data:image/gif;base64,R0lGODlhAQABAIAAAAAAAP///yH5BAEAAAAALAAAAAABAAEAAAIBRAA7',\n",
       " 'data:image/gif;base64,R0lGODlhAQABAIAAAAAAAP///yH5BAEAAAAALAAAAAABAAEAAAIBRAA7',\n",
       " 'data:image/gif;base64,R0lGODlhAQABAIAAAAAAAP///yH5BAEAAAAALAAAAAABAAEAAAIBRAA7',\n",
       " 'data:image/gif;base64,R0lGODlhAQABAIAAAAAAAP///yH5BAEAAAAALAAAAAABAAEAAAIBRAA7',\n",
       " 'data:image/gif;base64,R0lGODlhAQABAIAAAAAAAP///yH5BAEAAAAALAAAAAABAAEAAAIBRAA7',\n",
       " 'data:image/gif;base64,R0lGODlhAQABAIAAAAAAAP///yH5BAEAAAAALAAAAAABAAEAAAIBRAA7',\n",
       " 'data:image/gif;base64,R0lGODlhAQABAIAAAAAAAP///yH5BAEAAAAALAAAAAABAAEAAAIBRAA7',\n",
       " 'data:image/gif;base64,R0lGODlhAQABAIAAAAAAAP///yH5BAEAAAAALAAAAAABAAEAAAIBRAA7',\n",
       " 'data:image/gif;base64,R0lGODlhAQABAIAAAAAAAP///yH5BAEAAAAALAAAAAABAAEAAAIBRAA7',\n",
       " 'data:image/gif;base64,R0lGODlhAQABAIAAAAAAAP///yH5BAEAAAAALAAAAAABAAEAAAIBRAA7',\n",
       " 'data:image/gif;base64,R0lGODlhAQABAIAAAAAAAP///yH5BAEAAAAALAAAAAABAAEAAAIBRAA7',\n",
       " 'data:image/gif;base64,R0lGODlhAQABAIAAAAAAAP///yH5BAEAAAAALAAAAAABAAEAAAIBRAA7',\n",
       " 'data:image/gif;base64,R0lGODlhAQABAIAAAAAAAP///yH5BAEAAAAALAAAAAABAAEAAAIBRAA7',\n",
       " 'data:image/gif;base64,R0lGODlhAQABAIAAAAAAAP///yH5BAEAAAAALAAAAAABAAEAAAIBRAA7',\n",
       " 'data:image/gif;base64,R0lGODlhAQABAIAAAAAAAP///yH5BAEAAAAALAAAAAABAAEAAAIBRAA7',\n",
       " 'data:image/gif;base64,R0lGODlhAQABAIAAAAAAAP///yH5BAEAAAAALAAAAAABAAEAAAIBRAA7',\n",
       " 'data:image/gif;base64,R0lGODlhAQABAIAAAAAAAP///yH5BAEAAAAALAAAAAABAAEAAAIBRAA7',\n",
       " 'data:image/gif;base64,R0lGODlhAQABAIAAAAAAAP///yH5BAEAAAAALAAAAAABAAEAAAIBRAA7',\n",
       " 'data:image/gif;base64,R0lGODlhAQABAIAAAAAAAP///yH5BAEAAAAALAAAAAABAAEAAAIBRAA7',\n",
       " 'data:image/gif;base64,R0lGODlhAQABAIAAAAAAAP///yH5BAEAAAAALAAAAAABAAEAAAIBRAA7',\n",
       " 'data:image/gif;base64,R0lGODlhAQABAIAAAAAAAP///yH5BAEAAAAALAAAAAABAAEAAAIBRAA7',\n",
       " 'data:image/gif;base64,R0lGODlhAQABAIAAAAAAAP///yH5BAEAAAAALAAAAAABAAEAAAIBRAA7',\n",
       " 'data:image/gif;base64,R0lGODlhAQABAIAAAAAAAP///yH5BAEAAAAALAAAAAABAAEAAAIBRAA7',\n",
       " 'data:image/gif;base64,R0lGODlhAQABAIAAAAAAAP///yH5BAEAAAAALAAAAAABAAEAAAIBRAA7']"
      ]
     },
     "execution_count": 12,
     "metadata": {},
     "output_type": "execute_result"
    }
   ],
   "source": [
    "src"
   ]
  },
  {
   "cell_type": "code",
   "execution_count": 25,
   "id": "bb972406",
   "metadata": {},
   "outputs": [],
   "source": [
    "# 이미지의 경로를 실제 파일로 저장.\n",
    "# 이미지 폴더 안으로 들어가려면 이미지 다음에 슬래시가 있어야한다.\n",
    "for i in range(len(src)):\n",
    "    urlretrieve(src[i],\"C:/Users/gjaischool/Desktop/이미지/\"+ str(i) +\".jpg\")"
   ]
  },
  {
   "cell_type": "code",
   "execution_count": null,
   "id": "8df11b2f",
   "metadata": {},
   "outputs": [],
   "source": []
  },
  {
   "cell_type": "code",
   "execution_count": null,
   "id": "d0df9f06",
   "metadata": {},
   "outputs": [],
   "source": []
  },
  {
   "cell_type": "code",
   "execution_count": null,
   "id": "8595b4b0",
   "metadata": {},
   "outputs": [],
   "source": []
  },
  {
   "cell_type": "code",
   "execution_count": null,
   "id": "0a6de82e",
   "metadata": {},
   "outputs": [],
   "source": []
  },
  {
   "cell_type": "code",
   "execution_count": null,
   "id": "09055b56",
   "metadata": {},
   "outputs": [],
   "source": []
  },
  {
   "cell_type": "code",
   "execution_count": null,
   "id": "80953080",
   "metadata": {},
   "outputs": [],
   "source": []
  },
  {
   "cell_type": "code",
   "execution_count": null,
   "id": "2a553d50",
   "metadata": {},
   "outputs": [],
   "source": []
  },
  {
   "cell_type": "code",
   "execution_count": null,
   "id": "99fc1bbf",
   "metadata": {},
   "outputs": [],
   "source": []
  },
  {
   "cell_type": "code",
   "execution_count": null,
   "id": "764a488d",
   "metadata": {},
   "outputs": [],
   "source": []
  },
  {
   "cell_type": "code",
   "execution_count": null,
   "id": "ca5db63b",
   "metadata": {},
   "outputs": [],
   "source": []
  },
  {
   "cell_type": "code",
   "execution_count": null,
   "id": "f91c2da7",
   "metadata": {},
   "outputs": [],
   "source": []
  },
  {
   "cell_type": "code",
   "execution_count": null,
   "id": "dffdbbff",
   "metadata": {},
   "outputs": [],
   "source": []
  }
 ],
 "metadata": {
  "kernelspec": {
   "display_name": "Python 3 (ipykernel)",
   "language": "python",
   "name": "python3"
  },
  "language_info": {
   "codemirror_mode": {
    "name": "ipython",
    "version": 3
   },
   "file_extension": ".py",
   "mimetype": "text/x-python",
   "name": "python",
   "nbconvert_exporter": "python",
   "pygments_lexer": "ipython3",
   "version": "3.10.9"
  }
 },
 "nbformat": 4,
 "nbformat_minor": 5
}
